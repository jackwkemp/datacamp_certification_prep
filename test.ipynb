{
 "cells": [
  {
   "cell_type": "code",
   "execution_count": 14,
   "id": "cbf9a840-4250-4d00-94ec-c1121391b43b",
   "metadata": {},
   "outputs": [
    {
     "data": {
      "text/html": [
       "<div>\n",
       "<style scoped>\n",
       "    .dataframe tbody tr th:only-of-type {\n",
       "        vertical-align: middle;\n",
       "    }\n",
       "\n",
       "    .dataframe tbody tr th {\n",
       "        vertical-align: top;\n",
       "    }\n",
       "\n",
       "    .dataframe thead th {\n",
       "        text-align: right;\n",
       "    }\n",
       "</style>\n",
       "<table border=\"1\" class=\"dataframe\">\n",
       "  <thead>\n",
       "    <tr style=\"text-align: right;\">\n",
       "      <th></th>\n",
       "      <th>selling_price</th>\n",
       "      <th>year</th>\n",
       "      <th>transmission</th>\n",
       "      <th>km_driven</th>\n",
       "      <th>fuel</th>\n",
       "    </tr>\n",
       "  </thead>\n",
       "  <tbody>\n",
       "    <tr>\n",
       "      <th>0</th>\n",
       "      <td>450000</td>\n",
       "      <td>2014</td>\n",
       "      <td>Manual</td>\n",
       "      <td>145500</td>\n",
       "      <td>Diesel</td>\n",
       "    </tr>\n",
       "    <tr>\n",
       "      <th>1</th>\n",
       "      <td>370000</td>\n",
       "      <td>2014</td>\n",
       "      <td>Manual</td>\n",
       "      <td>120000</td>\n",
       "      <td>Diesel</td>\n",
       "    </tr>\n",
       "    <tr>\n",
       "      <th>2</th>\n",
       "      <td>158000</td>\n",
       "      <td>2006</td>\n",
       "      <td>Manual</td>\n",
       "      <td>140000</td>\n",
       "      <td>Petrol</td>\n",
       "    </tr>\n",
       "    <tr>\n",
       "      <th>3</th>\n",
       "      <td>225000</td>\n",
       "      <td>2010</td>\n",
       "      <td>Manual</td>\n",
       "      <td>127000</td>\n",
       "      <td>Diesel</td>\n",
       "    </tr>\n",
       "    <tr>\n",
       "      <th>4</th>\n",
       "      <td>130000</td>\n",
       "      <td>2007</td>\n",
       "      <td>Manual</td>\n",
       "      <td>120000</td>\n",
       "      <td>Petrol</td>\n",
       "    </tr>\n",
       "  </tbody>\n",
       "</table>\n",
       "</div>"
      ],
      "text/plain": [
       "   selling_price  year transmission  km_driven    fuel\n",
       "0         450000  2014       Manual     145500  Diesel\n",
       "1         370000  2014       Manual     120000  Diesel\n",
       "2         158000  2006       Manual     140000  Petrol\n",
       "3         225000  2010       Manual     127000  Diesel\n",
       "4         130000  2007       Manual     120000  Petrol"
      ]
     },
     "execution_count": 14,
     "metadata": {},
     "output_type": "execute_result"
    }
   ],
   "source": [
    "import pandas as pd\n",
    "\n",
    "df = pd.read_csv('car_details.csv')\n",
    "\n",
    "df2 = df.drop(columns=['name', 'seller_type', 'owner', 'mileage', 'engine', 'max_power', 'torque', 'seats'])\n",
    "\n",
    "df2 = df2[[\"selling_price\", \"year\", \"transmission\", 'km_driven', 'fuel']]\n",
    "df2.head()"
   ]
  },
  {
   "cell_type": "code",
   "execution_count": 2,
   "id": "d72f4413-42ab-4d50-8292-956a2075a1be",
   "metadata": {},
   "outputs": [],
   "source": [
    "# y_pred = price \n",
    "\n",
    "# independent variables:\n",
    "# numerical_variables: ['year', 'selling_price', 'km_driven']\n",
    "    \n",
    "# categorical_variables: ['transmission', 'fuel',]"
   ]
  },
  {
   "cell_type": "code",
   "execution_count": 59,
   "id": "f4c8997d-b16f-4802-b459-73661526d752",
   "metadata": {},
   "outputs": [
    {
     "data": {
      "text/plain": [
       "<bound method NDFrame.describe of       selling_price  year transmission  km_driven    fuel\n",
       "0            450000  2014       Manual     145500  Diesel\n",
       "1            370000  2014       Manual     120000  Diesel\n",
       "2            158000  2006       Manual     140000  Petrol\n",
       "3            225000  2010       Manual     127000  Diesel\n",
       "4            130000  2007       Manual     120000  Petrol\n",
       "...             ...   ...          ...        ...     ...\n",
       "8123         320000  2013       Manual     110000  Petrol\n",
       "8124         135000  2007       Manual     119000  Diesel\n",
       "8125         382000  2009       Manual     120000  Diesel\n",
       "8126         290000  2013       Manual      25000  Diesel\n",
       "8127         290000  2013       Manual      25000  Diesel\n",
       "\n",
       "[8128 rows x 5 columns]>"
      ]
     },
     "execution_count": 59,
     "metadata": {},
     "output_type": "execute_result"
    }
   ],
   "source": [
    "df2.describe"
   ]
  },
  {
   "cell_type": "code",
   "execution_count": 60,
   "id": "c2090bfa-7cc9-47d0-beb9-b3a20fd6a804",
   "metadata": {},
   "outputs": [
    {
     "data": {
      "text/plain": [
       "selling_price     int64\n",
       "year              int64\n",
       "transmission     object\n",
       "km_driven         int64\n",
       "fuel             object\n",
       "dtype: object"
      ]
     },
     "execution_count": 60,
     "metadata": {},
     "output_type": "execute_result"
    }
   ],
   "source": [
    "df2.dtypes"
   ]
  },
  {
   "cell_type": "code",
   "execution_count": null,
   "id": "8fa7e719-f4a6-4978-aeeb-b52f96de1d73",
   "metadata": {},
   "outputs": [],
   "source": [
    "order sections of df by price"
   ]
  },
  {
   "cell_type": "code",
   "execution_count": null,
   "id": "7babb07a-7649-4346-9377-4d653f39b1fb",
   "metadata": {},
   "outputs": [],
   "source": [
    "order by year and see what models are the most popular "
   ]
  },
  {
   "cell_type": "code",
   "execution_count": 15,
   "id": "943e414e-3f57-4caa-8124-f10420ab3401",
   "metadata": {},
   "outputs": [
    {
     "name": "stdout",
     "output_type": "stream",
     "text": [
      "               selling_price      year  km_driven\n",
      "selling_price       1.000000  0.414092  -0.225534\n",
      "year                0.414092  1.000000  -0.418006\n",
      "km_driven          -0.225534 -0.418006   1.000000\n"
     ]
    },
    {
     "data": {
      "image/png": "[encoded data removed]",
      "text/plain": [
       "<Figure size 432x288 with 2 Axes>"
      ]
     },
     "metadata": {
      "needs_background": "light"
     },
     "output_type": "display_data"
    }
   ],
   "source": [
    "# import modules\n",
    "import matplotlib.pyplot as mp\n",
    "import pandas as pd\n",
    "import seaborn as sb\n",
    "  \n",
    "# import file with data\n",
    "data = df2\n",
    "  \n",
    "# prints data that will be plotted\n",
    "# columns shown here are selected by corr() since\n",
    "# they are ideal for the plot\n",
    "print(data.corr())\n",
    "  \n",
    "# plotting correlation heatmap\n",
    "dataplot = sb.heatmap(data.corr(), cmap=\"YlGnBu\", annot=True)\n",
    "  \n",
    "# displaying heatmap\n",
    "mp.show()"
   ]
  },
  {
   "cell_type": "code",
   "execution_count": 16,
   "id": "acc02671-7aa6-497d-8329-37d0262ae4b5",
   "metadata": {},
   "outputs": [],
   "source": [
    "X = df2.loc[:, [ \"year\", 'transmission', 'km_driven', 'fuel']]\n",
    "\n",
    "y = df2[\"selling_price\"]"
   ]
  },
  {
   "cell_type": "code",
   "execution_count": 17,
   "id": "4a3289f3-1e02-42e0-8899-e61175d31b89",
   "metadata": {},
   "outputs": [],
   "source": [
    "# subset all categorical variables\n",
    "cars_categorical = X.select_dtypes(include=['object'])\n",
    "\n",
    "# convert into dummies\n",
    "cars_dummies = pd.get_dummies(cars_categorical)\n",
    "\n",
    "# drop categorical variables \n",
    "X = X.drop(list(cars_categorical.columns), axis=1)\n",
    "\n",
    "# concat dummy variables with X\n",
    "X = pd.concat([X, cars_dummies], axis=1)\n",
    "\n"
   ]
  },
  {
   "cell_type": "code",
   "execution_count": 18,
   "id": "80f63851-51ae-443d-b34d-6111b7aac4d5",
   "metadata": {},
   "outputs": [
    {
     "data": {
      "text/plain": [
       "Index(['year', 'km_driven', 'transmission_Automatic', 'transmission_Manual',\n",
       "       'fuel_CNG', 'fuel_Diesel', 'fuel_LPG', 'fuel_Petrol'],\n",
       "      dtype='object')"
      ]
     },
     "execution_count": 18,
     "metadata": {},
     "output_type": "execute_result"
    }
   ],
   "source": [
    "# scaling the features\n",
    "from sklearn.preprocessing import scale\n",
    "# storing column names in cols, since column names are (annoyingly) lost after \n",
    "# scaling (the df is converted to a numpy array)\n",
    "\n",
    "cols = X.columns\n",
    "X = pd.DataFrame(scale(X))\n",
    "X.columns = cols\n",
    "X.columns\n"
   ]
  },
  {
   "cell_type": "code",
   "execution_count": 35,
   "id": "ae3a78eb-9ffb-4028-bdc4-509e0aceab58",
   "metadata": {},
   "outputs": [],
   "source": [
    "# split into train and test\n",
    "from sklearn.model_selection import train_test_split\n",
    "X_train, X_test, y_train, y_test = train_test_split(X, y, \n",
    "                                                    train_size=0.7,\n",
    "                                                    test_size = 0.3, random_state=100)"
   ]
  },
  {
   "cell_type": "code",
   "execution_count": 36,
   "id": "45f47d24-5643-45a8-9cf4-9ea40e521a7a",
   "metadata": {},
   "outputs": [
    {
     "name": "stdout",
     "output_type": "stream",
     "text": [
      "0.49643413988336194\n"
     ]
    }
   ],
   "source": [
    "from sklearn.linear_model import LinearRegression\n",
    "# instantiate\n",
    "lm = LinearRegression()\n",
    "# fit\n",
    "lm.fit(X_train, y_train)\n",
    "# predict \n",
    "y_pred = lm.predict(X_test)\n",
    "# metrics\n",
    "from sklearn.metrics import r2_score\n",
    "print(r2_score(y_true=y_test, y_pred=y_pred))"
   ]
  },
  {
   "cell_type": "code",
   "execution_count": 37,
   "id": "0bb3a090-0481-405d-b357-739273d51749",
   "metadata": {},
   "outputs": [
    {
     "name": "stdout",
     "output_type": "stream",
     "text": [
      "0.7092227518191749\n"
     ]
    }
   ],
   "source": [
    "from sklearn.ensemble import RandomForestClassifier\n",
    "\n",
    "# instantiate\n",
    "lm = RandomForestClassifier()\n",
    "# fit\n",
    "lm.fit(X_train, y_train)\n",
    "# predict \n",
    "y_pred = lm.predict(X_test)\n",
    "\n",
    "# metrics\n",
    "from sklearn.metrics import r2_score\n",
    "print(r2_score(y_true=y_test, y_pred=y_pred))"
   ]
  },
  {
   "cell_type": "code",
   "execution_count": 38,
   "id": "cd80cac0-5609-444f-a6b3-e8e9fc1f577a",
   "metadata": {},
   "outputs": [
    {
     "name": "stdout",
     "output_type": "stream",
     "text": [
      "0.7907768460385691\n"
     ]
    }
   ],
   "source": [
    "from sklearn.ensemble import GradientBoostingRegressor\n",
    "\n",
    "# instantiate\n",
    "lm = GradientBoostingRegressor()\n",
    "# fit\n",
    "lm.fit(X_train, y_train)\n",
    "# predict \n",
    "y_pred = lm.predict(X_test)\n",
    "\n",
    "# metrics\n",
    "from sklearn.metrics import r2_score\n",
    "print(r2_score(y_true=y_test, y_pred=y_pred))"
   ]
  },
  {
   "cell_type": "code",
   "execution_count": 39,
   "id": "fc73652b-c633-4058-9d50-9ac246db143a",
   "metadata": {},
   "outputs": [
    {
     "name": "stdout",
     "output_type": "stream",
     "text": [
      "Mean Absolute Error: 198944.53256913467\n",
      "Mean Squared Error: 144628832338.78317\n"
     ]
    }
   ],
   "source": [
    "from sklearn import metrics\n",
    "import numpy as np\n",
    "print('Mean Absolute Error:', metrics.mean_absolute_error(y_test, y_pred))\n",
    "print('Mean Squared Error:', metrics.mean_squared_error(y_test, y_pred))\n",
    "# print('Root Mean Squared Error:', np.sqrt(metrics.mean_squared_error(y_test, y_pred)"
   ]
  },
  {
   "cell_type": "code",
   "execution_count": 40,
   "id": "55b5f42e-d61a-4607-8678-acb5e3c551b8",
   "metadata": {},
   "outputs": [
    {
     "name": "stdout",
     "output_type": "stream",
     "text": [
      "0.7665607775928895\n"
     ]
    }
   ],
   "source": [
    "from sklearn.neighbors import KNeighborsRegressor\n",
    "# instantiate\n",
    "lm = KNeighborsRegressor()\n",
    "# fit\n",
    "lm.fit(X_train, y_train)\n",
    "# predict \n",
    "y_pred = lm.predict(X_test)\n",
    "\n",
    "# metrics\n",
    "from sklearn.metrics import r2_score\n",
    "print(r2_score(y_true=y_test, y_pred=y_pred))"
   ]
  },
  {
   "cell_type": "code",
   "execution_count": 41,
   "id": "66b1a6b9-696e-4a2f-83ff-96a8a5399175",
   "metadata": {},
   "outputs": [
    {
     "name": "stdout",
     "output_type": "stream",
     "text": [
      "0.7293940605659885\n"
     ]
    }
   ],
   "source": [
    "from sklearn.tree import DecisionTreeRegressor\n",
    "\n",
    "# instantiate\n",
    "lm = DecisionTreeRegressor()\n",
    "# fit\n",
    "lm.fit(X_train, y_train)\n",
    "# predict \n",
    "y_pred = lm.predict(X_test)\n",
    "\n",
    "# metrics\n",
    "from sklearn.metrics import r2_score\n",
    "print(r2_score(y_true=y_test, y_pred=y_pred))"
   ]
  },
  {
   "cell_type": "code",
   "execution_count": 42,
   "id": "0514f339-1c14-46dd-8772-c68c568d4c9f",
   "metadata": {},
   "outputs": [
    {
     "name": "stdout",
     "output_type": "stream",
     "text": [
      "0.4725614042729004\n"
     ]
    }
   ],
   "source": [
    "from sklearn.linear_model import ElasticNet\n",
    "\n",
    "# instantiate\n",
    "lm = ElasticNet()\n",
    "# fit\n",
    "lm.fit(X_train, y_train)\n",
    "# predict \n",
    "y_pred = lm.predict(X_test)\n",
    "\n",
    "# metrics\n",
    "from sklearn.metrics import r2_score\n",
    "print(r2_score(y_true=y_test, y_pred=y_pred))\n",
    "\n"
   ]
  },
  {
   "cell_type": "code",
   "execution_count": 43,
   "id": "1cf59b16-6c46-4d50-8ff0-8a6645552f7c",
   "metadata": {},
   "outputs": [
    {
     "data": {
      "text/plain": [
       "0.49599005736070345"
      ]
     },
     "execution_count": 43,
     "metadata": {},
     "output_type": "execute_result"
    }
   ],
   "source": [
    "from sklearn.linear_model import Lasso\n",
    "\n",
    "# instantiate\n",
    "lm = Lasso()\n",
    "# fit\n",
    "lm.fit(X_train, y_train)\n",
    "# predict \n",
    "y_pred = lm.predict(X_test)\n",
    "\n",
    "# metrics\n",
    "from sklearn.metrics import r2_score\n",
    "r2_score(y_true=y_test, y_pred=y_pred)"
   ]
  },
  {
   "cell_type": "code",
   "execution_count": null,
   "id": "76f7b89c-c7c8-4da2-915d-b6efaa1d23a1",
   "metadata": {},
   "outputs": [],
   "source": []
  }
 ],
 "metadata": {
  "kernelspec": {
   "display_name": "Python 3",
   "language": "python",
   "name": "python3"
  },
  "language_info": {
   "codemirror_mode": {
    "name": "ipython",
    "version": 3
   },
   "file_extension": ".py",
   "mimetype": "text/x-python",
   "name": "python",
   "nbconvert_exporter": "python",
   "pygments_lexer": "ipython3",
   "version": "3.8.5"
  }
 },
 "nbformat": 4,
 "nbformat_minor": 5
}
