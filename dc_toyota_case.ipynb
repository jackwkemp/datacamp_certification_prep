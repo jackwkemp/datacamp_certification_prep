{
 "cells": [
  {
   "cell_type": "code",
   "execution_count": null,
   "id": "429817e5-5722-4e65-bebe-06b74929a31d",
   "metadata": {},
   "outputs": [],
   "source": [
    "import pandas as pd\n",
    "\n",
    "\n",
    "df = pd.read_csv('dc.csv')\n",
    "df.head()\n",
    "\n",
    "# check to make sure data is ok - fix any columns if needed, drop any if you want "
   ]
  },
  {
   "cell_type": "code",
   "execution_count": null,
   "id": "a3d3bdc8-1cc8-44f4-aa61-b02d07b2c35f",
   "metadata": {},
   "outputs": [],
   "source": [
    "df.describe"
   ]
  },
  {
   "cell_type": "code",
   "execution_count": null,
   "id": "489bb8db-94f2-4729-ba89-5b3d4c870efe",
   "metadata": {},
   "outputs": [],
   "source": [
    "df.dtypes"
   ]
  },
  {
   "cell_type": "code",
   "execution_count": null,
   "id": "f9227aba-34e6-4898-b15f-dc73fa2e0504",
   "metadata": {},
   "outputs": [],
   "source": [
    "df.shape"
   ]
  },
  {
   "cell_type": "code",
   "execution_count": null,
   "id": "ccded14d-6394-424f-8bee-beec679f637d",
   "metadata": {},
   "outputs": [],
   "source": [
    "# The column 'price' is the target variable and rest of the columns are independent variables.\n",
    "\n",
    "target_variable = ['price']\n",
    "\n",
    "# The independent variables are again divided into Categorical and Numerical variables.\n",
    "\n",
    "# independent variables:\n",
    "numerical_variables: ['year', 'mileage', 'tax', 'mpg', 'engineSize']\n",
    "    \n",
    "categorical_variables: ['model', 'transmission', 'fuelType']"
   ]
  },
  {
   "cell_type": "code",
   "execution_count": null,
   "id": "c127aa9d-8a76-43df-b93a-1104dd267f0b",
   "metadata": {},
   "outputs": [],
   "source": [
    "import matplotlib.pyplot as plt\n",
    "import pandas as pd\n",
    "import seaborn as sb\n",
    "  \n",
    "data = df\n",
    "  \n",
    "print(data.corr())\n",
    "\n",
    "dataplot = sb.heatmap(data.corr(), cmap=\"YlGnBu\", annot=True)\n",
    "\n",
    "plt.show()"
   ]
  },
  {
   "cell_type": "code",
   "execution_count": null,
   "id": "0d49b37d-fa37-4c10-8232-b3aa19bc2296",
   "metadata": {},
   "outputs": [],
   "source": [
    "#should be a positive\n",
    "\n",
    "df.plot(x='year', y='price', style='o')\n",
    "plt.title('year vs Price')\n",
    "plt.xlabel('year')\n",
    "plt.ylabel('price')\n",
    "plt.show()"
   ]
  },
  {
   "cell_type": "code",
   "execution_count": null,
   "id": "8f842a15-6e82-4d53-8943-2175d3b31bf9",
   "metadata": {},
   "outputs": [],
   "source": [
    "#should be a positive\n",
    "\n",
    "df.plot(x='mileage', y='price', style='o')\n",
    "plt.title('mileage vs Price')\n",
    "plt.xlabel('mileage')\n",
    "plt.ylabel('price')\n",
    "plt.show()"
   ]
  },
  {
   "cell_type": "code",
   "execution_count": null,
   "id": "ca3c6f90-0d17-4280-887c-77606ee07233",
   "metadata": {},
   "outputs": [],
   "source": [
    "#should be a negative\n",
    "\n",
    "df.plot(x='mpg', y='price', style='o')\n",
    "plt.title('mpg vs Price')\n",
    "plt.xlabel('mpg')\n",
    "plt.ylabel('price')\n",
    "plt.show()"
   ]
  },
  {
   "cell_type": "code",
   "execution_count": null,
   "id": "74ea6a9d-7493-45c6-b759-dcc4c079f99b",
   "metadata": {},
   "outputs": [],
   "source": [
    "X = df2.loc[:, [ 'year', 'mileage', 'tax', 'mpg', 'engineSize', 'model', 'transmission', 'fuelType']]\n",
    "\n",
    "y = df2['price']"
   ]
  },
  {
   "cell_type": "code",
   "execution_count": null,
   "id": "5674a977-b6c5-4b16-b335-38c0bc720218",
   "metadata": {},
   "outputs": [],
   "source": [
    "# subset all categorical variables\n",
    "cars_categorical = X.select_dtypes(include=['object'])\n",
    "\n",
    "# convert into dummies\n",
    "cars_dummies = pd.get_dummies(cars_categorical)\n",
    "\n",
    "# drop categorical variables \n",
    "X = X.drop(list(cars_categorical.columns), axis=1)\n",
    "\n",
    "# concat dummy variables with X\n",
    "X = pd.concat([X, cars_dummies], axis=1)"
   ]
  },
  {
   "cell_type": "code",
   "execution_count": null,
   "id": "c859d421-8311-4108-92fe-acbeb2f6f834",
   "metadata": {},
   "outputs": [],
   "source": [
    "# scaling the features\n",
    "from sklearn.preprocessing import scale\n",
    "# storing column names in cols, since column names are (annoyingly) lost after \n",
    "# scaling (the df is converted to a numpy array)\n",
    "\n",
    "cols = X.columns\n",
    "X = pd.DataFrame(scale(X))\n",
    "X.columns = cols\n",
    "X.columns"
   ]
  },
  {
   "cell_type": "code",
   "execution_count": null,
   "id": "b854f39c-a7af-4212-b41b-600edb7b0d15",
   "metadata": {},
   "outputs": [],
   "source": [
    "# split into train and test\n",
    "from sklearn.model_selection import train_test_split\n",
    "X_train, X_test, y_train, y_test = train_test_split(X, y, \n",
    "                                                    train_size=0.7,\n",
    "                                                    test_size = 0.3, random_state=100)"
   ]
  },
  {
   "cell_type": "code",
   "execution_count": null,
   "id": "58535ebc-1b0c-4b05-8268-00593574aef6",
   "metadata": {},
   "outputs": [],
   "source": [
    "from sklearn.ensemble import GradientBoostingRegressor\n",
    "\n",
    "# instantiate\n",
    "lm = GradientBoostingRegressor()\n",
    "# fit\n",
    "lm.fit(X_train, y_train)\n",
    "# predict \n",
    "y_pred = lm.predict(X_test)\n",
    "\n",
    "# metrics\n",
    "from sklearn.metrics import r2_score\n",
    "print(r2_score(y_true=y_test, y_pred=y_pred))"
   ]
  },
  {
   "cell_type": "code",
   "execution_count": null,
   "id": "9d941092-ecbe-4f32-8891-07b37541e7a3",
   "metadata": {},
   "outputs": [],
   "source": []
  },
  {
   "cell_type": "code",
   "execution_count": null,
   "id": "2a811624-5e84-418f-a212-03d87ee02884",
   "metadata": {},
   "outputs": [],
   "source": []
  },
  {
   "cell_type": "code",
   "execution_count": null,
   "id": "801332c8-b601-448a-80ee-adaa277c22c8",
   "metadata": {},
   "outputs": [],
   "source": []
  },
  {
   "cell_type": "code",
   "execution_count": null,
   "id": "903919bf-b073-44bc-96f1-3692a75a7cc1",
   "metadata": {},
   "outputs": [],
   "source": []
  },
  {
   "cell_type": "code",
   "execution_count": null,
   "id": "7644316b-a7a4-4d9b-b6a4-d33f7e392519",
   "metadata": {},
   "outputs": [],
   "source": []
  },
  {
   "cell_type": "code",
   "execution_count": null,
   "id": "bb9679aa-61f0-41b0-be05-5f44ec20088d",
   "metadata": {},
   "outputs": [],
   "source": []
  },
  {
   "cell_type": "code",
   "execution_count": null,
   "id": "f96c157b-743b-45b0-b169-f81e74da3a02",
   "metadata": {},
   "outputs": [],
   "source": []
  },
  {
   "cell_type": "code",
   "execution_count": null,
   "id": "e44e9a9f-e4e0-4a19-b18b-00773dc6a220",
   "metadata": {},
   "outputs": [],
   "source": []
  }
 ],
 "metadata": {
  "kernelspec": {
   "display_name": "Python 3",
   "language": "python",
   "name": "python3"
  },
  "language_info": {
   "codemirror_mode": {
    "name": "ipython",
    "version": 3
   },
   "file_extension": ".py",
   "mimetype": "text/x-python",
   "name": "python",
   "nbconvert_exporter": "python",
   "pygments_lexer": "ipython3",
   "version": "3.8.5"
  }
 },
 "nbformat": 4,
 "nbformat_minor": 5
}
