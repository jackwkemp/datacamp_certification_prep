{
 "cells": [
  {
   "cell_type": "markdown",
   "id": "663f045e-98e6-425b-8db8-2479ba164513",
   "metadata": {},
   "source": [
    "Presentation style - Google Slides - template - done \n",
    "\n",
    "Likely things to have an impact on price:\n",
    "\n",
    "year + mileage\n",
    "\n",
    "Manuals are normally cheaper than automatics\n",
    "\n",
    "\n",
    "\n"
   ]
  },
  {
   "cell_type": "markdown",
   "id": "aedba409-9b96-4613-a2d7-55bfe898403c",
   "metadata": {},
   "source": [
    "Basics to cover:\n",
    "\n",
    "manually go over the data to check for any basic errors \n",
    "\n",
    "What is the average price of total dataset\n",
    "\n",
    "median price of total dataset\n",
    "\n",
    "average price per car type\n",
    "\n"
   ]
  },
  {
   "cell_type": "markdown",
   "id": "7210daf7-5e66-41b6-a67f-746570cbed78",
   "metadata": {},
   "source": [
    "You will need to present your findings to the Head of Sales, who has no technical data science background."
   ]
  },
  {
   "cell_type": "code",
   "execution_count": null,
   "id": "4b644a40-51de-47e5-954f-18c2a759b415",
   "metadata": {},
   "outputs": [],
   "source": [
    "model prep:\n",
    "\n",
    "The column 'price' is the target variable and rest of the columns are independent variables.\n",
    "\n",
    "\n",
    "The independent variables are again divided into Categorical and Numerical variables.\n",
    "\n",
    "independent variables:\n",
    "numerical_variables: ['year', 'mileage', 'tax', 'mpg', 'engineSize']\n",
    "    \n",
    "categorical_variables: ['model', 'transmission', 'fuelType']\n",
    "    \n",
    "https://towardsdatascience.com/predicting-car-price-using-machine-learning-8d2df3898f16\n"
   ]
  },
  {
   "cell_type": "code",
   "execution_count": null,
   "id": "fa6e2113-3fd6-418e-a6c9-ddeca6ca2084",
   "metadata": {},
   "outputs": [],
   "source": [
    "# can use a heatmap to show / prove correlations \n",
    "\n",
    "# https://www.geeksforgeeks.org/how-to-create-a-seaborn-correlation-heatmap-in-python/\n",
    "# https://heartbeat.fritz.ai/seaborn-heatmaps-13-ways-to-customize-correlation-matrix-visualizations-f1c49c816f07\n",
    "    \n",
    "\n",
    "\n",
    "# import modules\n",
    "import matplotlib.pyplot as mp\n",
    "import pandas as pd\n",
    "import seaborn as sb\n",
    "  \n",
    "# import file with data\n",
    "data = pd.read_csv(\"cars.csv\")\n",
    "  \n",
    "# prints data that will be plotted\n",
    "# columns shown here are selected by corr() since\n",
    "# they are ideal for the plot\n",
    "print(data.corr())\n",
    "  \n",
    "# plotting correlation heatmap\n",
    "dataplot = sb.heatmap(data.corr(), cmap=\"YlGnBu\", annot=True)\n",
    "  \n",
    "# displaying heatmap\n",
    "mp.show()\n",
    "\n",
    "\n",
    "\n",
    "# or\n",
    "\n",
    "\n",
    "\n",
    "# import modules\n",
    "import matplotlib.pyplot as mp\n",
    "import pandas as pd\n",
    "import seaborn as sb\n",
    "  \n",
    "# import file with data\n",
    "data=pd.read_csv(\"C:\\\\Users\\\\Vanshi\\\\Desktop\\\\cumulative.csv\")\n",
    "  \n",
    "# plotting correlation heatmap\n",
    "dataplot=sb.heatmap(data.corr())\n",
    "  \n",
    "# displaying heatmap\n",
    "mp.show()"
   ]
  },
  {
   "cell_type": "code",
   "execution_count": null,
   "id": "8e0d3a03-1c7e-4a87-bf9c-6d53af59f83f",
   "metadata": {},
   "outputs": [],
   "source": [
    "# Be Aware: \n",
    "    \n",
    "# Correlation among independent variables:\n",
    "# Many independent variables are highly correlated (look at the top-left part of matrix): wheelbase, carlength, \n",
    "# curbweight, enginesize etc. are all measures of ‘size/weight’, and are positively correlated\n",
    "# Thus, while building the model, we’ll have to pay attention to multicollinearity (especially linear models, \n",
    "# such as linear and logistic regression, suffer more from multicollinearity).\n",
    "\n"
   ]
  },
  {
   "cell_type": "code",
   "execution_count": null,
   "id": "fddcd1e5-e656-43e7-89c7-6383376652f1",
   "metadata": {},
   "outputs": [],
   "source": [
    "# Data Cleaning:\n",
    "# We’ve seen that there are no missing values in the dataset.\n",
    "# We’ve also seen that variables are in the correct format, except “symboling”, \n",
    "# which should rather be a categorical variable (so that dummy variable are created for the categories).\n",
    "# We have also done data preprocessing on The variable “CarName” and created a new variable called as “car_company”."
   ]
  },
  {
   "cell_type": "code",
   "execution_count": null,
   "id": "61314403-c42a-4396-a558-cde29136a5f9",
   "metadata": {},
   "outputs": [],
   "source": [
    "# Data Preparation:\n",
    "# Let’s now prepare the data for model building.\n",
    "# Split the data into X and y.\n",
    "\n",
    "\n",
    "X = cars.loc[:, ['year', 'mileage', 'tax', 'mpg', 'engineSize', 'model', 'transmission', 'fuelType']]\n",
    "\n",
    "\n",
    "y = cars['price']"
   ]
  },
  {
   "cell_type": "code",
   "execution_count": null,
   "id": "19cc129e-e440-454c-a875-8643670f338e",
   "metadata": {},
   "outputs": [],
   "source": [
    "Creating dummy variables for categorical variables.\n",
    "\n",
    "\n",
    "# subset all categorical variables\n",
    "cars_categorical = X.select_dtypes(include=['object'])\n",
    "# convert into dummies\n",
    "cars_dummies = pd.get_dummies(cars_categorical, drop_first=True)\n",
    "# drop categorical variables \n",
    "X = X.drop(list(cars_categorical.columns), axis=1)\n",
    "# concat dummy variables with X\n",
    "X = pd.concat([X, cars_dummies], axis=1)\n"
   ]
  }
 ],
 "metadata": {
  "kernelspec": {
   "display_name": "Python 3",
   "language": "python",
   "name": "python3"
  },
  "language_info": {
   "codemirror_mode": {
    "name": "ipython",
    "version": 3
   },
   "file_extension": ".py",
   "mimetype": "text/x-python",
   "name": "python",
   "nbconvert_exporter": "python",
   "pygments_lexer": "ipython3",
   "version": "3.8.5"
  }
 },
 "nbformat": 4,
 "nbformat_minor": 5
}
